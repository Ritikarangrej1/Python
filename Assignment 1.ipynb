{
 "cells": [
  {
   "cell_type": "raw",
   "id": "8ab5e561",
   "metadata": {},
   "source": [
    "\"\"\" Date of submission:--> 24th of March 2024 before midnight(12:00)\n",
    "Your First Assignment : \n",
    "    \n",
    "    \n",
    "q1 : Try to print this by using while loop \n",
    "* \n",
    "* * \n",
    "* * * \n",
    "* * * * \n",
    "* * * * * \n",
    "* * * * * * \n",
    "* * * * * * * \n",
    "* * * * * * * * \n",
    "* * * * * * * * * \n",
    "\n",
    "q2 : try to print below by using while loop : \n",
    "        \n",
    "A\n",
    "B H \n",
    "C I N\n",
    "D J o S\n",
    "E K p T W\n",
    "F L Q U X z\n",
    "G M R V Y \n",
    "\n",
    "q3 : Try to print all the number divisible by 3 in between a range of 40 - 400\n",
    "    \n",
    "q4 : Try to filter out all the vowels form below text by using while loop : \n",
    "\n",
    " Python is a high-level, interpreted, general-purpose programming language. Its design philosophy emphasizes code readability with the use of significant indentation.[32]\n",
    "\n",
    "Python is dynamically-typed and garbage-collected. It supports multiple programming paradigms, including structured (particularly procedural), object-oriented and functional programming. It is often described as a \"batteries included\" language due to its comprehensive standard library.[33][34]\n",
    "\n",
    "Guido van Rossum began working on Python in the late 1980s as a successor to the ABC programming language and first released it in 1991 as Python 0.9.0.[35] Python 2.0 was released in 2000 and introduced new features such as list comprehensions, cycle-detecting garbage collection, reference counting, and Unicode support. Python 3.0, released in 2008, was a major revision that is not completely backward-compatible with earlier versions. Python 2 was discontinued with version 2.7.18 in 2020.[36]\n",
    "\n",
    "Python consistently ranks as one of the most popular programming languagesc\n",
    "\n",
    "\n",
    "q5 : Try to generate all the even number between 1- 1000\n",
    "\n",
    "q6 : Define a function for all the above problem statememnt  . \n",
    "    \n",
    "q7 : write a code to get a time of your system \n",
    "\n",
    "q8 : Write a code to fetch date form your system \n",
    "\n",
    "q9 : Write a code to send a mail to your friend \n",
    "\n",
    "q10 : write a code to trigger alarm for you at scheduled time \n",
    "\n",
    "q11 : write a code to check ip address of your system \n",
    "\n",
    "q12 : Write a code to check a particular installation in your system\n",
    "\n",
    "q13 : Write a code to convert any text in to voice. \n",
    "\n",
    "q14 : you have to write a fun which will take string and return a len of \n",
    "it without using a inbuilt fun len\n",
    "\n",
    "q15 :write a fun which will be able to print an index of all primitive element which you will pass. \n",
    "\n",
    "q16 : Write a fun which will take input as a dict and give me out as a list of all the values \n",
    "even in case of 2 level nesting it should work . \n",
    "\n",
    "q17 : write a function whihc will take multiple list as a input and give me concatnation of all the element as \n",
    "and output\n",
    "\n",
    "q18 : Write a function which will whould return list of all the file name from a directory . \n",
    "\n",
    "q19 : write a function whihc will be able to read a image file and show it to you .\n",
    "    \n",
    "q20 : write a function by which you will be able to append two PDF files . \n",
    "    \n",
    "q21 : write a function which can help you to filter only word file from a directory . \n",
    "    \n",
    "q22 : write a function which can read video file and play for you . \n",
    "    \n",
    "q23 : write a function which will be able to shutdonw your system . \n",
    "\n",
    "q24 : Write a function which will whould return list of all the file name from a directory . \n",
    "\n",
    "q25 : write a function whihc will be able to access your mail .\"\"\""
   ]
  },
  {
   "cell_type": "code",
   "execution_count": null,
   "id": "c048c504",
   "metadata": {},
   "outputs": [],
   "source": []
  },
  {
   "cell_type": "code",
   "execution_count": null,
   "id": "31729379",
   "metadata": {},
   "outputs": [],
   "source": []
  },
  {
   "cell_type": "code",
   "execution_count": null,
   "id": "b877db30",
   "metadata": {},
   "outputs": [],
   "source": []
  },
  {
   "cell_type": "code",
   "execution_count": null,
   "id": "915469a9",
   "metadata": {},
   "outputs": [],
   "source": []
  },
  {
   "cell_type": "raw",
   "id": "108aa5a5",
   "metadata": {},
   "source": [
    "q1 : Try to print this by using while loop \n",
    "* \n",
    "* * \n",
    "* * * \n",
    "* * * * \n",
    "* * * * * \n",
    "* * * * * * \n",
    "* * * * * * * \n",
    "* * * * * * * * \n",
    "* * * * * * * * * "
   ]
  },
  {
   "cell_type": "code",
   "execution_count": 3,
   "id": "8184002f",
   "metadata": {},
   "outputs": [
    {
     "name": "stdout",
     "output_type": "stream",
     "text": [
      "enter value:6\n",
      "* \n",
      "* * \n",
      "* * * \n",
      "* * * * \n",
      "* * * * * \n",
      "* * * * * * \n"
     ]
    }
   ],
   "source": [
    "n = int(input(\"enter value:\")) \n",
    "i = 0\n",
    "while i < n:\n",
    "    j = 0\n",
    "    while j <= i:\n",
    "        print(\"*\", end=\" \")\n",
    "        j += 1\n",
    "    print()\n",
    "    i += 1\n"
   ]
  },
  {
   "cell_type": "raw",
   "id": "b4be9205",
   "metadata": {},
   "source": [
    "q2 : try to print below by using while loop : \n",
    "        \n",
    "A\n",
    "B H \n",
    "C I N\n",
    "D J o S\n",
    "E K p T W\n",
    "F L Q U X z\n",
    "G M R V Y "
   ]
  },
  {
   "cell_type": "code",
   "execution_count": 4,
   "id": "60c2d26c",
   "metadata": {},
   "outputs": [
    {
     "name": "stdout",
     "output_type": "stream",
     "text": [
      "A \n",
      "B H \n",
      "C I N \n",
      "D J O S \n",
      "E K P T W \n",
      "F L Q U X Z \n"
     ]
    }
   ],
   "source": [
    "a= ord('A')\n",
    "b = ord('Z')\n",
    "n = 6\n",
    "\n",
    "i = 0\n",
    "while i < n:\n",
    "    j = 0\n",
    "    char = a + i\n",
    "    while j <= i:\n",
    "        if char > b:\n",
    "            break\n",
    "        print(chr(char), end=\" \")\n",
    "        if j < i:\n",
    "            char += n - j\n",
    "        else:\n",
    "            char = char + n - j + i + 1\n",
    "        j += 1\n",
    "    print()\n",
    "    i += 1\n"
   ]
  },
  {
   "cell_type": "raw",
   "id": "87bc834c",
   "metadata": {},
   "source": [
    "q3 : Try to print all the number divisible by 3 in between a range of 40 - 400"
   ]
  },
  {
   "cell_type": "code",
   "execution_count": 35,
   "id": "e82bd3cb",
   "metadata": {},
   "outputs": [
    {
     "name": "stdout",
     "output_type": "stream",
     "text": [
      "Numbers divisible by 3 between 40 and 400:\n",
      "42 45 48 51 54 57 60 63 66 69 72 75 78 81 84 87 90 93 96 99 102 105 108 111 114 117 120 123 126 129 132 135 138 141 144 147 150 153 156 159 162 165 168 171 174 177 180 183 186 189 192 195 198 201 204 207 210 213 216 219 222 225 228 231 234 237 240 243 246 249 252 255 258 261 264 267 270 273 276 279 282 285 288 291 294 297 300 303 306 309 312 315 318 321 324 327 330 333 336 339 342 345 348 351 354 357 360 363 366 369 372 375 378 381 384 387 390 393 396 399 "
     ]
    }
   ],
   "source": [
    "a = 40\n",
    "b = 400\n",
    "\n",
    "n = a\n",
    "print(\"Numbers divisible by 3 between 40 and 400:\")\n",
    "while n <= b:\n",
    "    if n % 3 == 0:\n",
    "        print(n, end=\" \")\n",
    "    n += 1\n"
   ]
  },
  {
   "cell_type": "raw",
   "id": "38b78a0a",
   "metadata": {},
   "source": [
    "q4 : Try to filter out all the vowels form below text by using while loop : \n",
    "\n",
    " Python is a high-level, interpreted, general-purpose programming language. Its design philosophy emphasizes code readability with the use of significant indentation.[32]\n",
    "\n",
    "Python is dynamically-typed and garbage-collected. It supports multiple programming paradigms, including structured (particularly procedural), object-oriented and functional programming. It is often described as a \"batteries included\" language due to its comprehensive standard library.[33][34]\n",
    "\n",
    "Guido van Rossum began working on Python in the late 1980s as a successor to the ABC programming language and first released it in 1991 as Python 0.9.0.[35] Python 2.0 was released in 2000 and introduced new features such as list comprehensions, cycle-detecting garbage collection, reference counting, and Unicode support. Python 3.0, released in 2008, was a major revision that is not completely backward-compatible with earlier versions. Python 2 was discontinued with version 2.7.18 in 2020.[36]\n",
    "\n",
    "Python consistently ranks as one of the most popular programming languagesc\n"
   ]
  },
  {
   "cell_type": "code",
   "execution_count": 36,
   "id": "a999a852",
   "metadata": {},
   "outputs": [
    {
     "name": "stdout",
     "output_type": "stream",
     "text": [
      "Pythn s  hgh-lvl, ntrprtd, gnrl-prps prgrmmng lngg. ts dsgn phlsphy mphszs cd rdblty wth th s f sgnfcnt ndnttn.[32]\n",
      "\n",
      "Pythn s dynmclly-typd nd grbg-cllctd. t spprts mltpl prgrmmng prdgms, ncldng strctrd (prtclrly prcdrl), bjct-rntd nd fnctnl prgrmmng. t s ftn dscrbd s  \"bttrs ncldd\" lngg d t ts cmprhnsv stndrd lbrry.[33][34]\n",
      "\n",
      "Gd vn Rssm bgn wrkng n Pythn n th lt 1980s s  sccssr t th BC prgrmmng lngg nd frst rlsd t n 1991 s Pythn 0.9.0.[35] Pythn 2.0 ws rlsd n 2000 nd ntrdcd nw ftrs sch s lst cmprhnsns, cycl-dtctng grbg cllctn, rfrnc cntng, nd ncd spprt. Pythn 3.0, rlsd n 2008, ws  mjr rvsn tht s nt cmpltly bckwrd-cmptbl wth rlr vrsns. Pythn 2 ws dscntnd wth vrsn 2.7.18 n 2020.[36]\n",
      "\n",
      "Pythn cnsstntly rnks s n f th mst pplr prgrmmng lnggsc\n"
     ]
    }
   ],
   "source": [
    "text = \"\"\"Python is a high-level, interpreted, general-purpose programming language. Its design philosophy emphasizes code readability with the use of significant indentation.[32]\n",
    "\n",
    "Python is dynamically-typed and garbage-collected. It supports multiple programming paradigms, including structured (particularly procedural), object-oriented and functional programming. It is often described as a \"batteries included\" language due to its comprehensive standard library.[33][34]\n",
    "\n",
    "Guido van Rossum began working on Python in the late 1980s as a successor to the ABC programming language and first released it in 1991 as Python 0.9.0.[35] Python 2.0 was released in 2000 and introduced new features such as list comprehensions, cycle-detecting garbage collection, reference counting, and Unicode support. Python 3.0, released in 2008, was a major revision that is not completely backward-compatible with earlier versions. Python 2 was discontinued with version 2.7.18 in 2020.[36]\n",
    "\n",
    "Python consistently ranks as one of the most popular programming languagesc\"\"\"\n",
    "\n",
    "vowels = \"aeiouAEIOU\"\n",
    "filtered_text = \"\"\n",
    "index = 0\n",
    "text_length = len(text)\n",
    "\n",
    "while index < text_length:\n",
    "    char = text[index]\n",
    "    if char not in vowels:\n",
    "        filtered_text += char\n",
    "    index += 1\n",
    "\n",
    "print(filtered_text)\n"
   ]
  },
  {
   "cell_type": "raw",
   "id": "e2ef1992",
   "metadata": {},
   "source": [
    "q5 : Try to generate all the even number between 1- 1000"
   ]
  },
  {
   "cell_type": "code",
   "execution_count": 37,
   "id": "76c958ae",
   "metadata": {},
   "outputs": [
    {
     "name": "stdout",
     "output_type": "stream",
     "text": [
      "Numbers even between 40 and 400:\n",
      "2 4 6 8 10 12 14 16 18 20 22 24 26 28 30 32 34 36 38 40 42 44 46 48 50 52 54 56 58 60 62 64 66 68 70 72 74 76 78 80 82 84 86 88 90 92 94 96 98 100 102 104 106 108 110 112 114 116 118 120 122 124 126 128 130 132 134 136 138 140 142 144 146 148 150 152 154 156 158 160 162 164 166 168 170 172 174 176 178 180 182 184 186 188 190 192 194 196 198 200 202 204 206 208 210 212 214 216 218 220 222 224 226 228 230 232 234 236 238 240 242 244 246 248 250 252 254 256 258 260 262 264 266 268 270 272 274 276 278 280 282 284 286 288 290 292 294 296 298 300 302 304 306 308 310 312 314 316 318 320 322 324 326 328 330 332 334 336 338 340 342 344 346 348 350 352 354 356 358 360 362 364 366 368 370 372 374 376 378 380 382 384 386 388 390 392 394 396 398 400 402 404 406 408 410 412 414 416 418 420 422 424 426 428 430 432 434 436 438 440 442 444 446 448 450 452 454 456 458 460 462 464 466 468 470 472 474 476 478 480 482 484 486 488 490 492 494 496 498 500 502 504 506 508 510 512 514 516 518 520 522 524 526 528 530 532 534 536 538 540 542 544 546 548 550 552 554 556 558 560 562 564 566 568 570 572 574 576 578 580 582 584 586 588 590 592 594 596 598 600 602 604 606 608 610 612 614 616 618 620 622 624 626 628 630 632 634 636 638 640 642 644 646 648 650 652 654 656 658 660 662 664 666 668 670 672 674 676 678 680 682 684 686 688 690 692 694 696 698 700 702 704 706 708 710 712 714 716 718 720 722 724 726 728 730 732 734 736 738 740 742 744 746 748 750 752 754 756 758 760 762 764 766 768 770 772 774 776 778 780 782 784 786 788 790 792 794 796 798 800 802 804 806 808 810 812 814 816 818 820 822 824 826 828 830 832 834 836 838 840 842 844 846 848 850 852 854 856 858 860 862 864 866 868 870 872 874 876 878 880 882 884 886 888 890 892 894 896 898 900 902 904 906 908 910 912 914 916 918 920 922 924 926 928 930 932 934 936 938 940 942 944 946 948 950 952 954 956 958 960 962 964 966 968 970 972 974 976 978 980 982 984 986 988 990 992 994 996 998 1000 "
     ]
    }
   ],
   "source": [
    "a = 1\n",
    "b = 1000\n",
    "\n",
    "n = a\n",
    "print(\"Numbers even between 40 and 400:\")\n",
    "while n <= b:\n",
    "    if n % 2 == 0:\n",
    "        print(n, end=\" \")\n",
    "    n += 1"
   ]
  },
  {
   "cell_type": "raw",
   "id": "cf60306a",
   "metadata": {},
   "source": [
    "q6 : Define a function for all the above problem statememnt "
   ]
  },
  {
   "cell_type": "code",
   "execution_count": null,
   "id": "01e581f9",
   "metadata": {},
   "outputs": [],
   "source": [
    "def add_numbers(num1, num2):\n",
    "    return num1 + num2\n",
    "\n",
    "\n",
    "def check_even_odd(num):\n",
    "    if num % 2 == 0:\n",
    "        return \"Even\"\n",
    "    else:\n",
    "        return \"Odd\"\n",
    "\n",
    "\n",
    "def find_max(num1, num2, num3):\n",
    "    return max(num1, num2, num3)\n",
    "\n",
    "\n",
    "result_sum = add_numbers(5, 10)\n",
    "print(\"Sum:\", result_sum)\n",
    "\n",
    "\n",
    "number = 7\n",
    "result_even_odd = check_even_odd(number)\n",
    "print(number, \"is\", result_even_odd)\n",
    "\n",
    "\n",
    "result_max = find_max(12, 25, 8)\n",
    "print(\"Maximum number:\", result_max)\n"
   ]
  },
  {
   "cell_type": "code",
   "execution_count": null,
   "id": "a76db041",
   "metadata": {},
   "outputs": [],
   "source": []
  },
  {
   "cell_type": "code",
   "execution_count": null,
   "id": "d398f4bf",
   "metadata": {},
   "outputs": [],
   "source": []
  },
  {
   "cell_type": "raw",
   "id": "c027eab3",
   "metadata": {},
   "source": [
    "q7 : write a code to get a time of your system "
   ]
  },
  {
   "cell_type": "code",
   "execution_count": 40,
   "id": "aa02e24f",
   "metadata": {},
   "outputs": [
    {
     "name": "stdout",
     "output_type": "stream",
     "text": [
      "Current time: 2024-03-18 20:05:40.814645\n"
     ]
    }
   ],
   "source": [
    "import datetime\n",
    "\n",
    "current_time = datetime.datetime.now()\n",
    "print(\"Current time:\", current_time)\n"
   ]
  },
  {
   "cell_type": "raw",
   "id": "a2f7330b",
   "metadata": {},
   "source": [
    "q8 : Write a code to fetch date form your system "
   ]
  },
  {
   "cell_type": "code",
   "execution_count": 41,
   "id": "e6577c5d",
   "metadata": {},
   "outputs": [
    {
     "name": "stdout",
     "output_type": "stream",
     "text": [
      "Current date: 2024-03-18\n"
     ]
    }
   ],
   "source": [
    "import datetime\n",
    "\n",
    "\n",
    "current_date = datetime.date.today()\n",
    "\n",
    "print(\"Current date:\", current_date)\n"
   ]
  },
  {
   "cell_type": "raw",
   "id": "8e4c9143",
   "metadata": {},
   "source": [
    "q9 : Write a code to send a mail to your friend "
   ]
  },
  {
   "cell_type": "code",
   "execution_count": null,
   "id": "10d501ad",
   "metadata": {},
   "outputs": [],
   "source": [
    "import smtplib\n",
    "from email.mime.text import MIMEText\n",
    "from email.mime.multipart import MIMEMultipart\n",
    "\n",
    "def send_email(subject, message, sender_email, receiver_email, password):\n",
    "    \"\"\"\n",
    "    Function to send an email.\n",
    "    \n",
    "    Parameters:\n",
    "        subject (str): Subject of the email.\n",
    "        message (str): Message content of the email.\n",
    "        sender_email (str): Sender's email address.\n",
    "        receiver_email (str): Receiver's email address.\n",
    "        password (str): Sender's email password.\n",
    "    \"\"\"\n",
    "\n",
    "    msg = MIMEMultipart()\n",
    "    msg['From'] = sender_email\n",
    "    msg['To'] = receiver_email\n",
    "    msg['Subject'] = subject\n",
    "\n",
    "    msg.attach(MIMEText(message, 'plain'))\n",
    "\n",
    "    \n",
    "    server = smtplib.SMTP('smtp.gmail.com', 587)\n",
    "    server.starttls()\n",
    "\n",
    "    \n",
    "    server.login(sender_email, password)\n",
    "\n",
    "  \n",
    "    server.sendmail(sender_email, receiver_email, msg.as_string())\n",
    "\n",
    "    \n",
    "    server.quit()\n",
    "\n",
    "\n",
    "sender_email = \"your_email@gmail.com\"\n",
    "receiver_email = \"friend_email@example.com\"\n",
    "password = \"your_email_password\"\n",
    "subject = \"Hello from Python\"\n",
    "message = \"Hi friend, this is an email sent from Python!\"\n",
    "\n",
    "send_email(subject, message, sender_email, receiver_email, password)\n"
   ]
  },
  {
   "cell_type": "code",
   "execution_count": null,
   "id": "849108e5",
   "metadata": {},
   "outputs": [],
   "source": []
  },
  {
   "cell_type": "raw",
   "id": "074eae31",
   "metadata": {},
   "source": [
    "q10 : write a code to trigger alarm for you at scheduled time "
   ]
  },
  {
   "cell_type": "code",
   "execution_count": 1,
   "id": "02deebe0",
   "metadata": {},
   "outputs": [
    {
     "name": "stdout",
     "output_type": "stream",
     "text": [
      "Alarm set for: 19:55\n",
      "Alarm! Wake up!\n"
     ]
    }
   ],
   "source": [
    "import datetime\n",
    "import time\n",
    "import winsound \n",
    "\n",
    "def set_alarm(alarm_time):\n",
    "    \"\"\"\n",
    "    Function to set an alarm at a specified time.\n",
    "    \n",
    "    Parameters:\n",
    "        alarm_time (datetime.datetime): Scheduled time for the alarm.\n",
    "    \"\"\"\n",
    "    while True:\n",
    "  \n",
    "        current_time = datetime.datetime.now()\n",
    "        \n",
    "  \n",
    "        if current_time.hour == alarm_time.hour and current_time.minute == alarm_time.minute:\n",
    "            print(\"Alarm! Wake up!\")\n",
    "     \n",
    "            winsound.PlaySound(\"path/to/your/alarm.wav\", winsound.SND_ASYNC)\n",
    "            break\n",
    "        \n",
    "       \n",
    "        time.sleep(10) \n",
    "\n",
    "\n",
    "alarm_time = datetime.datetime.now() + datetime.timedelta(minutes=1)  \n",
    "print(\"Alarm set for:\", alarm_time.strftime(\"%H:%M\"))\n",
    "\n",
    "set_alarm(alarm_time)\n"
   ]
  },
  {
   "cell_type": "code",
   "execution_count": null,
   "id": "667c2627",
   "metadata": {},
   "outputs": [],
   "source": []
  },
  {
   "cell_type": "raw",
   "id": "e8b4e307",
   "metadata": {},
   "source": [
    "q11 : write a code to check ip address of your system "
   ]
  },
  {
   "cell_type": "code",
   "execution_count": 42,
   "id": "04b70409",
   "metadata": {},
   "outputs": [
    {
     "name": "stdout",
     "output_type": "stream",
     "text": [
      "Hostname: VEESONS\n",
      "IP Address: 192.168.20.101\n"
     ]
    }
   ],
   "source": [
    "import socket\n",
    "\n",
    "hostname = socket.gethostname()\n",
    "\n",
    "ip_address = socket.gethostbyname(hostname)\n",
    "\n",
    "print(\"Hostname:\", hostname)\n",
    "print(\"IP Address:\", ip_address)\n"
   ]
  },
  {
   "cell_type": "raw",
   "id": "18932838",
   "metadata": {},
   "source": [
    "q12 : Write a code to check a particular installation in your system"
   ]
  },
  {
   "cell_type": "code",
   "execution_count": 4,
   "id": "fe3a11fe",
   "metadata": {},
   "outputs": [
    {
     "ename": "FileNotFoundError",
     "evalue": "[WinError 2] The system cannot find the file specified",
     "output_type": "error",
     "traceback": [
      "\u001b[1;31m---------------------------------------------------------------------------\u001b[0m",
      "\u001b[1;31mFileNotFoundError\u001b[0m                         Traceback (most recent call last)",
      "Cell \u001b[1;32mIn[4], line 21\u001b[0m\n\u001b[0;32m     18\u001b[0m         \u001b[38;5;28;01mreturn\u001b[39;00m \u001b[38;5;28;01mFalse\u001b[39;00m\n\u001b[0;32m     20\u001b[0m package_name \u001b[38;5;241m=\u001b[39m \u001b[38;5;124m\"\u001b[39m\u001b[38;5;124mpython3\u001b[39m\u001b[38;5;124m\"\u001b[39m  \n\u001b[1;32m---> 21\u001b[0m is_installed \u001b[38;5;241m=\u001b[39m check_installation(package_name)\n\u001b[0;32m     23\u001b[0m \u001b[38;5;28;01mif\u001b[39;00m is_installed:\n\u001b[0;32m     24\u001b[0m     \u001b[38;5;28mprint\u001b[39m(\u001b[38;5;124mf\u001b[39m\u001b[38;5;124m\"\u001b[39m\u001b[38;5;132;01m{\u001b[39;00mpackage_name\u001b[38;5;132;01m}\u001b[39;00m\u001b[38;5;124m is installed on your system.\u001b[39m\u001b[38;5;124m\"\u001b[39m)\n",
      "Cell \u001b[1;32mIn[4], line 15\u001b[0m, in \u001b[0;36mcheck_installation\u001b[1;34m(package_name)\u001b[0m\n\u001b[0;32m      4\u001b[0m \u001b[38;5;250m\u001b[39m\u001b[38;5;124;03m\"\"\"\u001b[39;00m\n\u001b[0;32m      5\u001b[0m \u001b[38;5;124;03mFunction to check if a particular package or software is installed.\u001b[39;00m\n\u001b[0;32m      6\u001b[0m \u001b[38;5;124;03m\u001b[39;00m\n\u001b[1;32m   (...)\u001b[0m\n\u001b[0;32m     11\u001b[0m \u001b[38;5;124;03m    bool: True if the package is installed, False otherwise.\u001b[39;00m\n\u001b[0;32m     12\u001b[0m \u001b[38;5;124;03m\"\"\"\u001b[39;00m\n\u001b[0;32m     13\u001b[0m \u001b[38;5;28;01mtry\u001b[39;00m:\n\u001b[1;32m---> 15\u001b[0m     subprocess\u001b[38;5;241m.\u001b[39mcheck_output([\u001b[38;5;124m\"\u001b[39m\u001b[38;5;124mwhich\u001b[39m\u001b[38;5;124m\"\u001b[39m, package_name])\n\u001b[0;32m     16\u001b[0m     \u001b[38;5;28;01mreturn\u001b[39;00m \u001b[38;5;28;01mTrue\u001b[39;00m\n\u001b[0;32m     17\u001b[0m \u001b[38;5;28;01mexcept\u001b[39;00m subprocess\u001b[38;5;241m.\u001b[39mCalledProcessError:\n",
      "File \u001b[1;32m~\\anaconda3\\Lib\\subprocess.py:466\u001b[0m, in \u001b[0;36mcheck_output\u001b[1;34m(timeout, *popenargs, **kwargs)\u001b[0m\n\u001b[0;32m    463\u001b[0m         empty \u001b[38;5;241m=\u001b[39m \u001b[38;5;124mb\u001b[39m\u001b[38;5;124m'\u001b[39m\u001b[38;5;124m'\u001b[39m\n\u001b[0;32m    464\u001b[0m     kwargs[\u001b[38;5;124m'\u001b[39m\u001b[38;5;124minput\u001b[39m\u001b[38;5;124m'\u001b[39m] \u001b[38;5;241m=\u001b[39m empty\n\u001b[1;32m--> 466\u001b[0m \u001b[38;5;28;01mreturn\u001b[39;00m run(\u001b[38;5;241m*\u001b[39mpopenargs, stdout\u001b[38;5;241m=\u001b[39mPIPE, timeout\u001b[38;5;241m=\u001b[39mtimeout, check\u001b[38;5;241m=\u001b[39m\u001b[38;5;28;01mTrue\u001b[39;00m,\n\u001b[0;32m    467\u001b[0m            \u001b[38;5;241m*\u001b[39m\u001b[38;5;241m*\u001b[39mkwargs)\u001b[38;5;241m.\u001b[39mstdout\n",
      "File \u001b[1;32m~\\anaconda3\\Lib\\subprocess.py:548\u001b[0m, in \u001b[0;36mrun\u001b[1;34m(input, capture_output, timeout, check, *popenargs, **kwargs)\u001b[0m\n\u001b[0;32m    545\u001b[0m     kwargs[\u001b[38;5;124m'\u001b[39m\u001b[38;5;124mstdout\u001b[39m\u001b[38;5;124m'\u001b[39m] \u001b[38;5;241m=\u001b[39m PIPE\n\u001b[0;32m    546\u001b[0m     kwargs[\u001b[38;5;124m'\u001b[39m\u001b[38;5;124mstderr\u001b[39m\u001b[38;5;124m'\u001b[39m] \u001b[38;5;241m=\u001b[39m PIPE\n\u001b[1;32m--> 548\u001b[0m \u001b[38;5;28;01mwith\u001b[39;00m Popen(\u001b[38;5;241m*\u001b[39mpopenargs, \u001b[38;5;241m*\u001b[39m\u001b[38;5;241m*\u001b[39mkwargs) \u001b[38;5;28;01mas\u001b[39;00m process:\n\u001b[0;32m    549\u001b[0m     \u001b[38;5;28;01mtry\u001b[39;00m:\n\u001b[0;32m    550\u001b[0m         stdout, stderr \u001b[38;5;241m=\u001b[39m process\u001b[38;5;241m.\u001b[39mcommunicate(\u001b[38;5;28minput\u001b[39m, timeout\u001b[38;5;241m=\u001b[39mtimeout)\n",
      "File \u001b[1;32m~\\anaconda3\\Lib\\subprocess.py:1026\u001b[0m, in \u001b[0;36mPopen.__init__\u001b[1;34m(self, args, bufsize, executable, stdin, stdout, stderr, preexec_fn, close_fds, shell, cwd, env, universal_newlines, startupinfo, creationflags, restore_signals, start_new_session, pass_fds, user, group, extra_groups, encoding, errors, text, umask, pipesize, process_group)\u001b[0m\n\u001b[0;32m   1022\u001b[0m         \u001b[38;5;28;01mif\u001b[39;00m \u001b[38;5;28mself\u001b[39m\u001b[38;5;241m.\u001b[39mtext_mode:\n\u001b[0;32m   1023\u001b[0m             \u001b[38;5;28mself\u001b[39m\u001b[38;5;241m.\u001b[39mstderr \u001b[38;5;241m=\u001b[39m io\u001b[38;5;241m.\u001b[39mTextIOWrapper(\u001b[38;5;28mself\u001b[39m\u001b[38;5;241m.\u001b[39mstderr,\n\u001b[0;32m   1024\u001b[0m                     encoding\u001b[38;5;241m=\u001b[39mencoding, errors\u001b[38;5;241m=\u001b[39merrors)\n\u001b[1;32m-> 1026\u001b[0m     \u001b[38;5;28mself\u001b[39m\u001b[38;5;241m.\u001b[39m_execute_child(args, executable, preexec_fn, close_fds,\n\u001b[0;32m   1027\u001b[0m                         pass_fds, cwd, env,\n\u001b[0;32m   1028\u001b[0m                         startupinfo, creationflags, shell,\n\u001b[0;32m   1029\u001b[0m                         p2cread, p2cwrite,\n\u001b[0;32m   1030\u001b[0m                         c2pread, c2pwrite,\n\u001b[0;32m   1031\u001b[0m                         errread, errwrite,\n\u001b[0;32m   1032\u001b[0m                         restore_signals,\n\u001b[0;32m   1033\u001b[0m                         gid, gids, uid, umask,\n\u001b[0;32m   1034\u001b[0m                         start_new_session, process_group)\n\u001b[0;32m   1035\u001b[0m \u001b[38;5;28;01mexcept\u001b[39;00m:\n\u001b[0;32m   1036\u001b[0m     \u001b[38;5;66;03m# Cleanup if the child failed starting.\u001b[39;00m\n\u001b[0;32m   1037\u001b[0m     \u001b[38;5;28;01mfor\u001b[39;00m f \u001b[38;5;129;01min\u001b[39;00m \u001b[38;5;28mfilter\u001b[39m(\u001b[38;5;28;01mNone\u001b[39;00m, (\u001b[38;5;28mself\u001b[39m\u001b[38;5;241m.\u001b[39mstdin, \u001b[38;5;28mself\u001b[39m\u001b[38;5;241m.\u001b[39mstdout, \u001b[38;5;28mself\u001b[39m\u001b[38;5;241m.\u001b[39mstderr)):\n",
      "File \u001b[1;32m~\\anaconda3\\Lib\\subprocess.py:1538\u001b[0m, in \u001b[0;36mPopen._execute_child\u001b[1;34m(self, args, executable, preexec_fn, close_fds, pass_fds, cwd, env, startupinfo, creationflags, shell, p2cread, p2cwrite, c2pread, c2pwrite, errread, errwrite, unused_restore_signals, unused_gid, unused_gids, unused_uid, unused_umask, unused_start_new_session, unused_process_group)\u001b[0m\n\u001b[0;32m   1536\u001b[0m \u001b[38;5;66;03m# Start the process\u001b[39;00m\n\u001b[0;32m   1537\u001b[0m \u001b[38;5;28;01mtry\u001b[39;00m:\n\u001b[1;32m-> 1538\u001b[0m     hp, ht, pid, tid \u001b[38;5;241m=\u001b[39m _winapi\u001b[38;5;241m.\u001b[39mCreateProcess(executable, args,\n\u001b[0;32m   1539\u001b[0m                              \u001b[38;5;66;03m# no special security\u001b[39;00m\n\u001b[0;32m   1540\u001b[0m                              \u001b[38;5;28;01mNone\u001b[39;00m, \u001b[38;5;28;01mNone\u001b[39;00m,\n\u001b[0;32m   1541\u001b[0m                              \u001b[38;5;28mint\u001b[39m(\u001b[38;5;129;01mnot\u001b[39;00m close_fds),\n\u001b[0;32m   1542\u001b[0m                              creationflags,\n\u001b[0;32m   1543\u001b[0m                              env,\n\u001b[0;32m   1544\u001b[0m                              cwd,\n\u001b[0;32m   1545\u001b[0m                              startupinfo)\n\u001b[0;32m   1546\u001b[0m \u001b[38;5;28;01mfinally\u001b[39;00m:\n\u001b[0;32m   1547\u001b[0m     \u001b[38;5;66;03m# Child is launched. Close the parent's copy of those pipe\u001b[39;00m\n\u001b[0;32m   1548\u001b[0m     \u001b[38;5;66;03m# handles that only the child should have open.  You need\u001b[39;00m\n\u001b[1;32m   (...)\u001b[0m\n\u001b[0;32m   1551\u001b[0m     \u001b[38;5;66;03m# pipe will not close when the child process exits and the\u001b[39;00m\n\u001b[0;32m   1552\u001b[0m     \u001b[38;5;66;03m# ReadFile will hang.\u001b[39;00m\n\u001b[0;32m   1553\u001b[0m     \u001b[38;5;28mself\u001b[39m\u001b[38;5;241m.\u001b[39m_close_pipe_fds(p2cread, p2cwrite,\n\u001b[0;32m   1554\u001b[0m                          c2pread, c2pwrite,\n\u001b[0;32m   1555\u001b[0m                          errread, errwrite)\n",
      "\u001b[1;31mFileNotFoundError\u001b[0m: [WinError 2] The system cannot find the file specified"
     ]
    }
   ],
   "source": [
    "import subprocess\n",
    "\n",
    "def check_installation(package_name):\n",
    "    \"\"\"\n",
    "    Function to check if a particular package or software is installed.\n",
    "    \n",
    "    Parameters:\n",
    "        package_name (str): Name of the package or software to check.\n",
    "        \n",
    "    Returns:\n",
    "        bool: True if the package is installed, False otherwise.\n",
    "    \"\"\"\n",
    "    try:\n",
    "        \n",
    "        subprocess.check_output([\"which\", package_name])\n",
    "        return True\n",
    "    except subprocess.CalledProcessError:\n",
    "        return False\n",
    "\n",
    "package_name = \"python3\"  \n",
    "is_installed = check_installation(package_name)\n",
    "\n",
    "if is_installed:\n",
    "    print(f\"{package_name} is installed on your system.\")\n",
    "else:\n",
    "    print(f\"{package_name} is not installed on your system.\")\n",
    "\n"
   ]
  },
  {
   "cell_type": "code",
   "execution_count": null,
   "id": "dd26b772",
   "metadata": {},
   "outputs": [],
   "source": []
  },
  {
   "cell_type": "raw",
   "id": "96fd3647",
   "metadata": {},
   "source": [
    "q13 : Write a code to convert any text in to voice. "
   ]
  },
  {
   "cell_type": "code",
   "execution_count": 7,
   "id": "770d4c00",
   "metadata": {},
   "outputs": [
    {
     "ename": "SyntaxError",
     "evalue": "invalid syntax (816459644.py, line 1)",
     "output_type": "error",
     "traceback": [
      "\u001b[1;36m  Cell \u001b[1;32mIn[7], line 1\u001b[1;36m\u001b[0m\n\u001b[1;33m    pip install gtts\u001b[0m\n\u001b[1;37m        ^\u001b[0m\n\u001b[1;31mSyntaxError\u001b[0m\u001b[1;31m:\u001b[0m invalid syntax\n"
     ]
    }
   ],
   "source": [
    "pip install gtts\n",
    "\n",
    "from gtts import gTTS\n",
    "import os\n",
    "\n",
    "def text_to_speech(text, language='en', filename='output.mp3'):\n",
    "    \n",
    "    Function to convert text to speech and save it as an audio file.\n",
    "    \n",
    "    Parameters:\n",
    "        text (str): The text to convert to speech.\n",
    "        language (str): The language of the text (default is 'en' for English).\n",
    "        filename (str): The name of the output audio file (default is 'output.mp3').\n",
    "    \n",
    "    tts = gTTS(text=text, lang=language, slow=False)\n",
    "    tts.save(filename)\n",
    "    print(f\"Text converted to speech and saved as {filename}\")\n",
    "\n",
    "# Example usage:\n",
    "text = \"Hello, how are you today?\"\n",
    "text_to_speech(text, language='en', filename='output.mp3')\n",
    "os.system(\"start output.mp3\")  # Play the generated audio file\n"
   ]
  },
  {
   "cell_type": "code",
   "execution_count": null,
   "id": "9736fe2a",
   "metadata": {},
   "outputs": [],
   "source": []
  },
  {
   "cell_type": "raw",
   "id": "dc6625d1",
   "metadata": {},
   "source": [
    "q14: you have to write a fun which will take string and return a len of \n",
    "it without using a inbuilt fun len"
   ]
  },
  {
   "cell_type": "code",
   "execution_count": 1,
   "id": "bdb8ea67",
   "metadata": {},
   "outputs": [
    {
     "name": "stdout",
     "output_type": "stream",
     "text": [
      "19\n"
     ]
    }
   ],
   "source": [
    "def custom_len(string):\n",
    "    count = 0\n",
    "    for _ in string:\n",
    "        count += 1\n",
    "    return count\n",
    "\n",
    "text = \"Hello, how are you?\"\n",
    "print(custom_len(text)) \n"
   ]
  },
  {
   "cell_type": "code",
   "execution_count": null,
   "id": "6c82eebe",
   "metadata": {},
   "outputs": [],
   "source": []
  },
  {
   "cell_type": "raw",
   "id": "d441492c",
   "metadata": {},
   "source": [
    "q15 :write a fun which will be able to print an index of all primitive element which you will pass. "
   ]
  },
  {
   "cell_type": "code",
   "execution_count": 2,
   "id": "ba3f62f3",
   "metadata": {},
   "outputs": [
    {
     "name": "stdout",
     "output_type": "stream",
     "text": [
      "Index: 1, Element: 2\n",
      "Index: 2, Element: 3\n",
      "Index: 4, Element: 5\n",
      "Index: 6, Element: 7\n"
     ]
    }
   ],
   "source": [
    "def is_primitive(n):\n",
    "    if n <= 1:\n",
    "        return False\n",
    "    elif n <= 3:\n",
    "        return True\n",
    "    elif n % 2 == 0 or n % 3 == 0:\n",
    "        return False\n",
    "    i = 5\n",
    "    while i * i <= n:\n",
    "        if n % i == 0 or n % (i + 2) == 0:\n",
    "            return False\n",
    "        i += 6\n",
    "    return True\n",
    "\n",
    "def print_primitive_indices(lst):\n",
    "    for i, num in enumerate(lst):\n",
    "        if is_primitive(num):\n",
    "            print(f\"Index: {i}, Element: {num}\")\n",
    "\n",
    "        \n",
    "my_list = [1, 2, 3, 4, 5, 6, 7, 8, 9, 10]\n",
    "print_primitive_indices(my_list)\n"
   ]
  },
  {
   "cell_type": "code",
   "execution_count": null,
   "id": "89414f56",
   "metadata": {},
   "outputs": [],
   "source": []
  },
  {
   "cell_type": "raw",
   "id": "49721ed9",
   "metadata": {},
   "source": [
    "\n",
    "q16 : Write a fun which will take input as a dict and give me out as a list of all the values \n",
    "even in case of 2 level nesting it should work ."
   ]
  },
  {
   "cell_type": "code",
   "execution_count": 3,
   "id": "a69b6910",
   "metadata": {},
   "outputs": [
    {
     "name": "stdout",
     "output_type": "stream",
     "text": [
      "[1, 2, 3, 4, 5, 6, 7]\n"
     ]
    }
   ],
   "source": [
    "def extract_values(d):\n",
    "    values = []\n",
    "    for value in d.values():\n",
    "        if isinstance(value, dict):\n",
    "            values.extend(extract_values(value))\n",
    "        else:\n",
    "            values.append(value)\n",
    "    return values\n",
    "my_dict = {\n",
    "    'a': 1,\n",
    "    'b': 2,\n",
    "    'c': {\n",
    "        'd': 3,\n",
    "        'e': 4,\n",
    "        'f': {\n",
    "            'g': 5,\n",
    "            'h': 6\n",
    "        }\n",
    "    },\n",
    "    'i': 7\n",
    "}\n",
    "\n",
    "print(extract_values(my_dict))\n"
   ]
  },
  {
   "cell_type": "code",
   "execution_count": null,
   "id": "1e972fe2",
   "metadata": {},
   "outputs": [],
   "source": []
  },
  {
   "cell_type": "code",
   "execution_count": null,
   "id": "4f9df01a",
   "metadata": {},
   "outputs": [],
   "source": []
  },
  {
   "cell_type": "code",
   "execution_count": null,
   "id": "1230ffeb",
   "metadata": {},
   "outputs": [],
   "source": []
  },
  {
   "cell_type": "raw",
   "id": "93e80e48",
   "metadata": {},
   "source": [
    "q17 : write a function whihc will take multiple list as a input and give me concatnation of all the element as \n",
    "and output"
   ]
  },
  {
   "cell_type": "code",
   "execution_count": null,
   "id": "e61863b0",
   "metadata": {},
   "outputs": [],
   "source": []
  },
  {
   "cell_type": "code",
   "execution_count": 4,
   "id": "e3dd497a",
   "metadata": {},
   "outputs": [
    {
     "name": "stdout",
     "output_type": "stream",
     "text": [
      "[1, 2, 3, 'a', 'b', 'c', True, False]\n"
     ]
    }
   ],
   "source": [
    "def concatenate_lists(*args):\n",
    "    concatenated_list = []\n",
    "    for lst in args:\n",
    "        concatenated_list.extend(lst)\n",
    "    return concatenated_list\n",
    "\n",
    "list1 = [1, 2, 3]\n",
    "list2 = ['a', 'b', 'c']\n",
    "list3 = [True, False]\n",
    "result = concatenate_lists(list1, list2, list3)\n",
    "print(result)\n"
   ]
  },
  {
   "cell_type": "code",
   "execution_count": null,
   "id": "55bb57de",
   "metadata": {},
   "outputs": [],
   "source": []
  },
  {
   "cell_type": "code",
   "execution_count": null,
   "id": "c95bd131",
   "metadata": {},
   "outputs": [],
   "source": []
  },
  {
   "cell_type": "raw",
   "id": "9509d697",
   "metadata": {},
   "source": [
    "q18. Write a function which will whould return list of all the file name from a directory . \n"
   ]
  },
  {
   "cell_type": "code",
   "execution_count": 8,
   "id": "cecca209",
   "metadata": {},
   "outputs": [
    {
     "name": "stdout",
     "output_type": "stream",
     "text": [
      "Error accessing directory: [WinError 3] The system cannot find the path specified: '/path/to/your/directory'\n",
      "No files found in the directory.\n"
     ]
    }
   ],
   "source": [
    "import os\n",
    "\n",
    "def get_filenames(directory_path):\n",
    "  \"\"\"\n",
    "  Retrieves a list of filenames from a specified directory.\n",
    "\n",
    "  Args:\n",
    "      directory_path (str): The path to the directory.\n",
    "\n",
    "  Returns:\n",
    "      list: A list containing the filenames in the directory, or an empty list if the directory is inaccessible.\n",
    "  \"\"\"\n",
    "\n",
    "  try:\n",
    "   \n",
    "    entries = os.listdir(directory_path)\n",
    "    \n",
    "    filenames = [entry for entry in entries if os.path.isfile(os.path.join(directory_path, entry))]\n",
    "    return filenames\n",
    "  except OSError as error:\n",
    "    print(f\"Error accessing directory: {error}\")\n",
    "    return []\n",
    "\n",
    "\n",
    "directory_path = \"/path/to/your/directory\"\n",
    "filenames = get_filenames(directory_path)\n",
    "\n",
    "if filenames:\n",
    "  print(\"Filenames in the directory:\")\n",
    "  for filename in filenames:\n",
    "    print(filename)\n",
    "else:\n",
    "  print(\"No files found in the directory.\")\n"
   ]
  },
  {
   "cell_type": "code",
   "execution_count": null,
   "id": "ec9db772",
   "metadata": {},
   "outputs": [],
   "source": []
  },
  {
   "cell_type": "code",
   "execution_count": null,
   "id": "0fab1fc3",
   "metadata": {},
   "outputs": [],
   "source": []
  },
  {
   "cell_type": "raw",
   "id": "25a68069",
   "metadata": {},
   "source": [
    "q19 : write a function whihc will be able to read a image file and show it to you .\n",
    "    "
   ]
  },
  {
   "cell_type": "code",
   "execution_count": null,
   "id": "6ce57508",
   "metadata": {},
   "outputs": [],
   "source": [
    "import cv2\n",
    "\n",
    "def read_and_process_image(image_path):\n",
    "  \"\"\"\n",
    "  Reads an image from a specified path and returns it as a NumPy array.\n",
    "\n",
    "  Args:\n",
    "      image_path (str): The path to the image file.\n",
    "\n",
    "  Returns:\n",
    "      numpy.ndarray: The image data as a NumPy array, or None if an error occurs.\n",
    "  \"\"\"\n",
    "\n",
    "  try:\n",
    "   \n",
    "    image = cv2.imread(image_path)\n",
    "\n",
    "    if image is None:\n",
    "      print(f\"Error: Could not read image from {image_path}\")\n",
    "      return None\n",
    "\n",
    "\n",
    "\n",
    "   \n",
    "    resized_image = cv2.resize(image, (width, height))\n",
    "\n",
    "    return resized_image\n",
    "  except Exception as error:\n",
    "    print(f\"An error occurred while processing the image: {error}\")\n",
    "    return None\n",
    "\n",
    "\n",
    "image_path = \"path/to/your/image.jpg\"\n",
    "width = 640\n",
    "height = 480\n",
    "\n",
    "processed_image = read_and_process_image(image_path)\n",
    "\n",
    "if processed_image is not None:\n",
    "\n",
    "  cv2.imwrite(\"resized_image.jpg\", processed_image)\n",
    "  print(\"Image processing complete!\")\n"
   ]
  },
  {
   "cell_type": "markdown",
   "id": "95bce7c6",
   "metadata": {},
   "source": [
    "q20 : write a function by which you will be able to append two PDF files . "
   ]
  },
  {
   "cell_type": "code",
   "execution_count": null,
   "id": "c2bfde84",
   "metadata": {},
   "outputs": [],
   "source": [
    "import PyPDF2\n",
    "\n",
    "def append_pdfs(pdf_path1, pdf_path2, output_path):\n",
    "  \"\"\"\n",
    "  Appends the content of one PDF file to the end of another, saving the merged result to a new file.\n",
    "\n",
    "  Args:\n",
    "      pdf_path1 (str): The path to the first PDF file.\n",
    "      pdf_path2 (str): The path to the second PDF file to be appended.\n",
    "      output_path (str): The path to the output PDF file containing the merged content.\n",
    "\n",
    "  Returns:\n",
    "      bool: True if the PDF merging was successful, False otherwise.\n",
    "  \"\"\"\n",
    "\n",
    "  try:\n",
    "\n",
    "    with open(pdf_path1, 'rb') as pdf_file1, open(pdf_path2, 'rb') as pdf_file2, open(output_path, 'wb') as merged_pdf:\n",
    "      pdf_reader1 = PyPDF2.PdfReader(pdf_file1)\n",
    "      pdf_reader2 = PyPDF2.PdfReader(pdf_file2)\n",
    "\n",
    "      pdf_writer = PyPDF2.PdfWriter()\n",
    "\n",
    "  \n",
    "      for page_num in range(pdf_reader1.getNumPages()):\n",
    "        pdf_writer.addPage(pdf_reader1.getPage(page_num))\n",
    "\n",
    "\n",
    "      for page_num in range(pdf_reader2.getNumPages()):\n",
    "        pdf_writer.addPage(pdf_reader2.getPage(page_num))\n",
    "\n",
    "   \n",
    "      pdf_writer.write(merged_pdf)\n",
    "\n",
    "      print(f\"PDFs appended successfully! Output: {output_path}\")\n",
    "      return True  \n",
    "\n",
    "  except FileNotFoundError:\n",
    "    print(f\"Error: One or both PDF files not found at {pdf_path1} and {pdf_path2}\")\n",
    "  except Exception as error:\n",
    "    print(f\"An error occurred during PDF merging: {error}\")\n",
    "  return False\n",
    "\n",
    "pdf_path1 = \"path/to/your/pdf1.pdf\"\n",
    "pdf_path2 = \"path/to/your/pdf2.pdf\"\n",
    "output_path = \"merged_pdf.pdf\"\n",
    "\n",
    "success = append_pdfs(pdf_path1, pdf_path2, output_path)\n",
    "\n",
    "if success:\n",
    "  print(\"PDF merging completed.\")\n",
    "else:\n",
    "  print(\"PDF merging failed. Please check for errors.\")\n"
   ]
  },
  {
   "cell_type": "code",
   "execution_count": null,
   "id": "608848a8",
   "metadata": {},
   "outputs": [],
   "source": []
  },
  {
   "cell_type": "raw",
   "id": "5ea686a7",
   "metadata": {},
   "source": [
    "q21 : write a function which can help you to filter only word file from a directory . \n"
   ]
  },
  {
   "cell_type": "code",
   "execution_count": null,
   "id": "27c55584",
   "metadata": {},
   "outputs": [],
   "source": [
    "import os\n",
    "\n",
    "def filter_word_files(directory):\n",
    "    \"\"\"\n",
    "    Function to filter only Word files (files with a .docx extension) from a directory.\n",
    "    \n",
    "    Parameters:\n",
    "        directory (str): The path of the directory.\n",
    "        \n",
    "    Returns:\n",
    "        list: A list containing the names of all Word files in the directory.\n",
    "    \"\"\"\n",
    "\n",
    "    word_files = []\n",
    "    \n",
    "  \n",
    "    for filename in os.listdir(directory):\n",
    "       \n",
    "        if os.path.isfile(os.path.join(directory, filename)):\n",
    "            \n",
    "            if filename.endswith(\".docx\"):\n",
    "           \n",
    "                word_files.append(filename)\n",
    "    \n",
    "    return word_files\n",
    "\n",
    "\n",
    "directory_path = \"/path/to/your/directory\"\n",
    "word_files = filter_word_files(directory_path)\n",
    "print(\"Word files in the directory:\", word_files)\n"
   ]
  },
  {
   "cell_type": "code",
   "execution_count": null,
   "id": "c95a9efc",
   "metadata": {},
   "outputs": [],
   "source": []
  },
  {
   "cell_type": "raw",
   "id": "13716dd1",
   "metadata": {},
   "source": [
    "q22 : write a function which can read video file and play for you ."
   ]
  },
  {
   "cell_type": "code",
   "execution_count": null,
   "id": "ab7ca69e",
   "metadata": {},
   "outputs": [],
   "source": [
    "import cv2\n",
    "\n",
    "def play_video(video_file):\n",
    "    \"\"\"\n",
    "    Function to read and play a video file.\n",
    "    \n",
    "    Parameters:\n",
    "        video_file (str): The path of the video file.\n",
    "    \"\"\"\n",
    "    cap = cv2.VideoCapture(video_file)\n",
    "    \n",
    "    if not cap.isOpened():\n",
    "        print(\"Error: Unable to open video file\")\n",
    "        return\n",
    "    \n",
    "    while True:\n",
    "        ret, frame = cap.read()\n",
    "        \n",
    "        if not ret:\n",
    "            break\n",
    "        \n",
    "        cv2.imshow('Video', frame)\n",
    "        \n",
    "        if cv2.waitKey(25) & 0xFF == ord('q'):\n",
    "            break\n",
    "    \n",
    "    cap.release()\n",
    "    cv2.destroyAllWindows()\n",
    "\n",
    "video_file_path = \"/path/to/your/video/file.mp4\"\n",
    "play_video(video_file_path)\n"
   ]
  },
  {
   "cell_type": "code",
   "execution_count": null,
   "id": "257d62fc",
   "metadata": {},
   "outputs": [],
   "source": []
  },
  {
   "cell_type": "raw",
   "id": "05200079",
   "metadata": {},
   "source": [
    "q23 : write a function which will be able to shutdonw your system . "
   ]
  },
  {
   "cell_type": "code",
   "execution_count": null,
   "id": "882f7056",
   "metadata": {},
   "outputs": [],
   "source": [
    "import os\n",
    "\n",
    "def shutdown_system():\n",
    "    \"\"\"\n",
    "    Function to shutdown the system.\n",
    "    \"\"\"\n",
    "    if os.name == 'posix':  \n",
    "        os.system(\"sudo shutdown now\")\n",
    "    elif os.name == 'nt': \n",
    "        os.system(\"shutdown /s /t 1\")\n",
    "    else:\n",
    "        print(\"Unsupported operating system\")\n",
    "\n",
    "shutdown_system()\n"
   ]
  },
  {
   "cell_type": "code",
   "execution_count": null,
   "id": "aa7d0d05",
   "metadata": {},
   "outputs": [],
   "source": []
  },
  {
   "cell_type": "code",
   "execution_count": null,
   "id": "c2973f62",
   "metadata": {},
   "outputs": [],
   "source": []
  },
  {
   "cell_type": "raw",
   "id": "2d0b3ea7",
   "metadata": {},
   "source": [
    "q24 : Write a function which will whould return list of all the file name from a directory . "
   ]
  },
  {
   "cell_type": "code",
   "execution_count": null,
   "id": "208c28b6",
   "metadata": {},
   "outputs": [],
   "source": [
    "import os\n",
    "\n",
    "def list_files(directory):\n",
    "    \"\"\"\n",
    "    Function to return a list of all file names from a directory.\n",
    "    \n",
    "    Parameters:\n",
    "        directory (str): The path of the directory.\n",
    "        \n",
    "    Returns:\n",
    "        list: A list containing the names of all files in the directory.\n",
    "    \"\"\"\n",
    "    file_names = []\n",
    "    \n",
    "    for filename in os.listdir(directory):\n",
    "        if os.path.isfile(os.path.join(directory, filename)):\n",
    "            file_names.append(filename)\n",
    "    \n",
    "    return file_names\n",
    "\n",
    "directory_path = \"/path/to/your/directory\"\n",
    "files = list_files(directory_path)\n",
    "print(\"Files in the directory:\", files)\n"
   ]
  },
  {
   "cell_type": "code",
   "execution_count": null,
   "id": "d3f7ed5b",
   "metadata": {},
   "outputs": [],
   "source": []
  },
  {
   "cell_type": "raw",
   "id": "e57461e0",
   "metadata": {},
   "source": [
    "q25 : write a function whihc will be able to access your mail .\"\"\""
   ]
  },
  {
   "cell_type": "code",
   "execution_count": null,
   "id": "81747398",
   "metadata": {},
   "outputs": [],
   "source": [
    "import imaplib\n",
    "\n",
    "def fetch_emails(username, password):\n",
    "    \"\"\"\n",
    "    Function to fetch emails from the inbox of an email account.\n",
    "    \n",
    "    Parameters:\n",
    "        username (str): Email address (e.g., \"example@gmail.com\").\n",
    "        password (str): Password of the email account.\n",
    "    \"\"\"\n",
    "    imap_server = imaplib.IMAP4_SSL(\"imap.gmail.com\")\n",
    "    \n",
    "    try:\n",
    "        imap_server.login(username, password)\n",
    "        \n",
    "        imap_server.select(\"inbox\")\n",
    "        \n",
    "        result, data = imap_server.search(None, 'UNSEEN')\n",
    "        \n",
    "        email_ids = data[0].split()\n",
    "        \n",
    "        if email_ids:\n",
    "            print(f\"Found {len(email_ids)} unseen emails:\")\n",
    "            for email_id in email_ids:\n",
    "                result, email_data = imap_server.fetch(email_id, \"(RFC822)\")\n",
    "                print(email_data[0][1]) \n",
    "        else:\n",
    "            print(\"No unseen emails found.\")\n",
    "    finally:\n",
    "      \n",
    "        imap_server.logout()\n",
    "\n",
    "# Example usage:\n",
    "email_address = \"your_email@gmail.com\"\n",
    "password = \"your_password\"\n",
    "fetch_emails(email_address, password)\n"
   ]
  },
  {
   "cell_type": "code",
   "execution_count": null,
   "id": "aa33f877",
   "metadata": {},
   "outputs": [],
   "source": []
  },
  {
   "cell_type": "code",
   "execution_count": null,
   "id": "420c6d4d",
   "metadata": {},
   "outputs": [],
   "source": []
  },
  {
   "cell_type": "code",
   "execution_count": null,
   "id": "d2529d53",
   "metadata": {},
   "outputs": [],
   "source": []
  }
 ],
 "metadata": {
  "kernelspec": {
   "display_name": "Python 3 (ipykernel)",
   "language": "python",
   "name": "python3"
  },
  "language_info": {
   "codemirror_mode": {
    "name": "ipython",
    "version": 3
   },
   "file_extension": ".py",
   "mimetype": "text/x-python",
   "name": "python",
   "nbconvert_exporter": "python",
   "pygments_lexer": "ipython3",
   "version": "3.11.5"
  }
 },
 "nbformat": 4,
 "nbformat_minor": 5
}
