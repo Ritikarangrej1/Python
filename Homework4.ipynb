{
 "cells": [
  {
   "cell_type": "raw",
   "id": "cb746f5f",
   "metadata": {},
   "source": [
    "Homework-4\n",
    "# Marks: User input\n",
    "#     GRE cut off:---> 600\n",
    "#     TOFEL Cut off:---> 400\n",
    "#         Try something else:---> 400-\n",
    "        \n",
    "#     600+ ---> Congratulations you have cleared GRE and TOFEL.\n",
    "#     600- ---> Sorry You couldn't clear GRE. Work Hard.\n",
    "#     400+ ----> Cleared TOFEL\n",
    "#     400- ----? Try something else"
   ]
  },
  {
   "cell_type": "code",
   "execution_count": 2,
   "id": "c49e3b20",
   "metadata": {},
   "outputs": [
    {
     "name": "stdout",
     "output_type": "stream",
     "text": [
      "Enter your GRE score: 432\n",
      "Enter your TOEFL score: 444\n",
      "Sorry, you couldn't clear GRE. Work Hard.\n"
     ]
    }
   ],
   "source": [
    "GREscore = int(input(\"Enter your GRE score: \"))\n",
    "TOEFLscore = int(input(\"Enter your TOEFL score: \"))\n",
    "\n",
    "if GREscore >= 600 and TOEFLscore >= 600:\n",
    "    print(\"Congratulations! You have cleared GRE and TOEFL.\")\n",
    "elif GREscore < 600:\n",
    "    print(\"Sorry, you couldn't clear GRE. Work Hard.\")\n",
    "elif TOEFLscore >= 400:\n",
    "    print(\"You have cleared TOEFL.\")\n",
    "else:\n",
    "    print(\"Try something else.\")"
   ]
  },
  {
   "cell_type": "code",
   "execution_count": null,
   "id": "fae0bfaf",
   "metadata": {},
   "outputs": [],
   "source": []
  },
  {
   "cell_type": "code",
   "execution_count": null,
   "id": "fa71531d",
   "metadata": {},
   "outputs": [],
   "source": []
  }
 ],
 "metadata": {
  "kernelspec": {
   "display_name": "Python 3 (ipykernel)",
   "language": "python",
   "name": "python3"
  },
  "language_info": {
   "codemirror_mode": {
    "name": "ipython",
    "version": 3
   },
   "file_extension": ".py",
   "mimetype": "text/x-python",
   "name": "python",
   "nbconvert_exporter": "python",
   "pygments_lexer": "ipython3",
   "version": "3.11.5"
  }
 },
 "nbformat": 4,
 "nbformat_minor": 5
}
