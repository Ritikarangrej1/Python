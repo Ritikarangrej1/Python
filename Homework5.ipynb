{
 "cells": [
  {
   "cell_type": "markdown",
   "id": "b2d63d2d",
   "metadata": {},
   "source": [
    "# Homework 5"
   ]
  },
  {
   "cell_type": "code",
   "execution_count": 30,
   "id": "1bfb5b12",
   "metadata": {},
   "outputs": [
    {
     "name": "stdout",
     "output_type": "stream",
     "text": [
      "enter number: 3\n",
      "  * \n",
      " * * \n",
      "* * * \n",
      " * * \n",
      "  * \n"
     ]
    }
   ],
   "source": [
    "\n",
    "n=int(input(\"enter number: \"))\n",
    "for i in range(1,n+1):\n",
    "    print(\" \" * (n-i) + \"* \" * i )\n",
    "for i in range(n-1, 0, -1):\n",
    "    print(\" \" * (n-i) + \"* \" * i )\n",
    "\n"
   ]
  },
  {
   "cell_type": "code",
   "execution_count": null,
   "id": "b31fdcc8",
   "metadata": {},
   "outputs": [],
   "source": [
    "#Take a dictionary now print each element in the form of tuple with it's type."
   ]
  },
  {
   "cell_type": "code",
   "execution_count": 33,
   "id": "453b4940",
   "metadata": {},
   "outputs": [
    {
     "data": {
      "text/plain": [
       "dict"
      ]
     },
     "execution_count": 33,
     "metadata": {},
     "output_type": "execute_result"
    }
   ],
   "source": [
    "d={\"name\":\"ritika\",\"rollno\":5,\"class\":\"MCA\"}\n",
    "type(d)"
   ]
  },
  {
   "cell_type": "code",
   "execution_count": 35,
   "id": "0eb85ae7",
   "metadata": {},
   "outputs": [
    {
     "name": "stdout",
     "output_type": "stream",
     "text": [
      "('name', 'ritika', <class 'str'>)\n",
      "('rollno', 5, <class 'int'>)\n",
      "('class', 'MCA', <class 'str'>)\n"
     ]
    }
   ],
   "source": [
    "for key, value in d.items():\n",
    "    value_type = type(value)\n",
    "    print((key, value, value_type))\n"
   ]
  },
  {
   "cell_type": "code",
   "execution_count": null,
   "id": "b899f724",
   "metadata": {},
   "outputs": [],
   "source": [
    "#Take a list if there is integer value in the list then put it in another list."
   ]
  },
  {
   "cell_type": "code",
   "execution_count": 38,
   "id": "77583acf",
   "metadata": {},
   "outputs": [
    {
     "name": "stdout",
     "output_type": "stream",
     "text": [
      "[1, 2, 3]\n"
     ]
    }
   ],
   "source": [
    "l=[1,2,3,4.4,\"ritika\",\"rangrej\"]\n",
    "a=[]\n",
    "for i in l:\n",
    "    if isinstance(i,int):\n",
    "        a.append(i)\n",
    "print(a)"
   ]
  },
  {
   "cell_type": "code",
   "execution_count": null,
   "id": "a62c1944",
   "metadata": {},
   "outputs": [],
   "source": [
    "# d = {6:54674, \"name\": \"Madhu\", 5:\"346335\", \"workAt\":\"MITVPU\"}\n",
    "# check if the key of dictionary is integer then print key and it's value."
   ]
  },
  {
   "cell_type": "code",
   "execution_count": 39,
   "id": "507d8072",
   "metadata": {},
   "outputs": [
    {
     "name": "stdout",
     "output_type": "stream",
     "text": [
      "Key: 6 Value: 54674\n",
      "Key: 5 Value: 346335\n"
     ]
    }
   ],
   "source": [
    "d = {6:54674, \"name\": \"Madhu\", 5:\"346335\", \"workAt\":\"MITVPU\"}\n",
    "for key, value in d.items():\n",
    "    if isinstance(key, int):\n",
    "        print(\"Key:\", key, \"Value:\", value)"
   ]
  },
  {
   "cell_type": "code",
   "execution_count": null,
   "id": "3f24e723",
   "metadata": {},
   "outputs": [],
   "source": []
  }
 ],
 "metadata": {
  "kernelspec": {
   "display_name": "Python 3 (ipykernel)",
   "language": "python",
   "name": "python3"
  },
  "language_info": {
   "codemirror_mode": {
    "name": "ipython",
    "version": 3
   },
   "file_extension": ".py",
   "mimetype": "text/x-python",
   "name": "python",
   "nbconvert_exporter": "python",
   "pygments_lexer": "ipython3",
   "version": "3.11.5"
  }
 },
 "nbformat": 4,
 "nbformat_minor": 5
}
