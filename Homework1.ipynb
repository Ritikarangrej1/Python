{
 "cells": [
  {
   "cell_type": "raw",
   "id": "c7c3a98e",
   "metadata": {},
   "source": [
    "# Homework-1\n",
    "\n",
    "s = \"this is My First Python programming class and i am learNING python string and its function\"\n",
    "1 . Try to extract data from index one to index 300 with a jump of 3 \n",
    "2. Try to reverse a string without using reverse function \n",
    "3. Try to split a string after conversion of entire string in uppercase \n",
    "4. try to convert the whole string into lower case \n",
    "5 . Try to capitalize the whole string \n",
    "6 . Write a diference between isalnum() and isalpha()\n",
    "7. Try to give an example of expand tab\n",
    "8 . Give an example of strip , lstrip and rstrip \n",
    "9.  Replace a string charecter by another charector by taking your own example \n",
    "\"Madhu Priya\"\n",
    "10 . Try  to give a defination of string center function with and exmple \n",
    "11 . Write your own definition of compiler and interpretor without copy paste form internet in your own language\n",
    "12 . Python is a interpreted of compiled language give a clear ans with your understanding \n",
    "13 . Try to write a usecase of python with your understanding .\n",
    "14. Why Python is So Popular?\n",
    "15. What is the difference between C, C++, Java and Python?"
   ]
  },
  {
   "cell_type": "markdown",
   "id": "43186dfc",
   "metadata": {},
   "source": [
    "Q1. Try to extract data from index one to index 300 with a jump of 3 "
   ]
  },
  {
   "cell_type": "code",
   "execution_count": 24,
   "id": "9978129f",
   "metadata": {},
   "outputs": [
    {
     "data": {
      "text/plain": [
       "'this is My First Python programming class and i am learNING python string and its function'"
      ]
     },
     "execution_count": 24,
     "metadata": {},
     "output_type": "execute_result"
    }
   ],
   "source": [
    "s = \"this is My First Python programming class and i am learNING python string and its function\"\n",
    "s"
   ]
  },
  {
   "cell_type": "code",
   "execution_count": 25,
   "id": "87d8eb10",
   "metadata": {},
   "outputs": [
    {
     "data": {
      "text/plain": [
       "'h   r tnrrmglsnimeNGyosi dtfco'"
      ]
     },
     "execution_count": 25,
     "metadata": {},
     "output_type": "execute_result"
    }
   ],
   "source": [
    "s[1:300:3]"
   ]
  },
  {
   "cell_type": "markdown",
   "id": "76813548",
   "metadata": {},
   "source": [
    "Q2. Try to reverse a string without using reverse function "
   ]
  },
  {
   "cell_type": "code",
   "execution_count": 26,
   "id": "40becc54",
   "metadata": {},
   "outputs": [
    {
     "data": {
      "text/plain": [
       "'noitcnuf sti dna gnirts nohtyp GNINrael ma i dna ssalc gnimmargorp nohtyP tsriF yM si siht'"
      ]
     },
     "execution_count": 26,
     "metadata": {},
     "output_type": "execute_result"
    }
   ],
   "source": [
    "s[::-1]"
   ]
  },
  {
   "cell_type": "markdown",
   "id": "feb7ed81",
   "metadata": {},
   "source": [
    "Q3. Try to split a string after conversion of entire string in uppercase "
   ]
  },
  {
   "cell_type": "code",
   "execution_count": 27,
   "id": "4a7ffd83",
   "metadata": {},
   "outputs": [
    {
     "data": {
      "text/plain": [
       "['this',\n",
       " 'is',\n",
       " 'My',\n",
       " 'First',\n",
       " 'Python',\n",
       " 'programming',\n",
       " 'class',\n",
       " 'and',\n",
       " 'i',\n",
       " 'am',\n",
       " 'learNING',\n",
       " 'python',\n",
       " 'string',\n",
       " 'and',\n",
       " 'its',\n",
       " 'function']"
      ]
     },
     "execution_count": 27,
     "metadata": {},
     "output_type": "execute_result"
    }
   ],
   "source": [
    "s.split(\" \")"
   ]
  },
  {
   "cell_type": "code",
   "execution_count": 28,
   "id": "0ec99a2c",
   "metadata": {},
   "outputs": [
    {
     "data": {
      "text/plain": [
       "'THIS IS MY FIRST PYTHON PROGRAMMING CLASS AND I AM LEARNING PYTHON STRING AND ITS FUNCTION'"
      ]
     },
     "execution_count": 28,
     "metadata": {},
     "output_type": "execute_result"
    }
   ],
   "source": [
    "s.upper()"
   ]
  },
  {
   "cell_type": "markdown",
   "id": "88461762",
   "metadata": {},
   "source": [
    "Q4. try to convert the whole string into lower case "
   ]
  },
  {
   "cell_type": "code",
   "execution_count": 29,
   "id": "2769adbf",
   "metadata": {},
   "outputs": [
    {
     "data": {
      "text/plain": [
       "'this is my first python programming class and i am learning python string and its function'"
      ]
     },
     "execution_count": 29,
     "metadata": {},
     "output_type": "execute_result"
    }
   ],
   "source": [
    "s.lower()"
   ]
  },
  {
   "cell_type": "markdown",
   "id": "cbc964d6",
   "metadata": {},
   "source": [
    "Q5 . Try to capitalize the whole string "
   ]
  },
  {
   "cell_type": "code",
   "execution_count": 30,
   "id": "6d77d662",
   "metadata": {},
   "outputs": [
    {
     "data": {
      "text/plain": [
       "'This is my first python programming class and i am learning python string and its function'"
      ]
     },
     "execution_count": 30,
     "metadata": {},
     "output_type": "execute_result"
    }
   ],
   "source": [
    "s.capitalize()"
   ]
  },
  {
   "cell_type": "markdown",
   "id": "e61955b6",
   "metadata": {},
   "source": [
    "Q6. Write a diference between isalnum() and isalpha()"
   ]
  },
  {
   "cell_type": "raw",
   "id": "f9cec63d",
   "metadata": {},
   "source": [
    "isalpha():\n",
    "\n",
    "Checks if a string contains only alphabetical characters (letters), both uppercase and lowercase.\n",
    "It returns True if all characters in the string are letters, and False otherwise.\n",
    "Examples:\n",
    "'Hello World'.isalpha() returns False (contains spaces).\n",
    "'HelloWorld'.isalpha() returns True.\n",
    "isalnum():\n",
    "\n",
    "Checks if a string contains only alphanumeric characters (letters and numbers).\n",
    "It returns True if all characters in the string are letters or numbers, and False otherwise.\n",
    "Examples:\n",
    "'Hello123'.isalnum() returns False (contains letters).\n",
    "'123World'.isalnum() returns False (contains letters).\n",
    "'HelloWorld123'.isalnum() returns True.\n",
    "In simpler terms, isalpha() is stricter, allowing only letters, while isalnum() is more lenient, allowing both letters and numbers."
   ]
  },
  {
   "cell_type": "markdown",
   "id": "7ff7d88e",
   "metadata": {},
   "source": [
    "Q7. Try to give an example of expand tab"
   ]
  },
  {
   "cell_type": "code",
   "execution_count": 31,
   "id": "de81ade6",
   "metadata": {},
   "outputs": [
    {
     "data": {
      "text/plain": [
       "'I       Love    Python  Language'"
      ]
     },
     "execution_count": 31,
     "metadata": {},
     "output_type": "execute_result"
    }
   ],
   "source": [
    "s1=\"I\\tLove\\tPython\\tLanguage\"\n",
    "s1.expandtabs()"
   ]
  },
  {
   "cell_type": "markdown",
   "id": "f725003a",
   "metadata": {},
   "source": [
    "Q8 . Give an example of strip , lstrip and rstrip "
   ]
  },
  {
   "cell_type": "code",
   "execution_count": 32,
   "id": "b71ba730",
   "metadata": {},
   "outputs": [
    {
     "data": {
      "text/plain": [
       "'My Name Is Ritika'"
      ]
     },
     "execution_count": 32,
     "metadata": {},
     "output_type": "execute_result"
    }
   ],
   "source": [
    "s2=\" My Name Is Ritika \"\n",
    "s2.strip()\n"
   ]
  },
  {
   "cell_type": "code",
   "execution_count": 33,
   "id": "47cdf1c9",
   "metadata": {},
   "outputs": [
    {
     "data": {
      "text/plain": [
       "'My Name Is Ritika '"
      ]
     },
     "execution_count": 33,
     "metadata": {},
     "output_type": "execute_result"
    }
   ],
   "source": [
    "s2.lstrip()"
   ]
  },
  {
   "cell_type": "code",
   "execution_count": 34,
   "id": "b1c1f62c",
   "metadata": {},
   "outputs": [
    {
     "data": {
      "text/plain": [
       "' My Name Is Ritika'"
      ]
     },
     "execution_count": 34,
     "metadata": {},
     "output_type": "execute_result"
    }
   ],
   "source": [
    "s2.rstrip()"
   ]
  },
  {
   "cell_type": "markdown",
   "id": "eac4e2b2",
   "metadata": {},
   "source": [
    "Q9. Replace a string charecter by another charector by taking your own example \n",
    "\"Madhu Priya\""
   ]
  },
  {
   "cell_type": "code",
   "execution_count": 41,
   "id": "367780f8",
   "metadata": {},
   "outputs": [],
   "source": [
    "s3=\"Ritika\"\n",
    "s3=s3.replace(\"Ritika\" , \"Madhu Priya\")"
   ]
  },
  {
   "cell_type": "code",
   "execution_count": 42,
   "id": "060ad89c",
   "metadata": {},
   "outputs": [
    {
     "data": {
      "text/plain": [
       "'Madhu Priya'"
      ]
     },
     "execution_count": 42,
     "metadata": {},
     "output_type": "execute_result"
    }
   ],
   "source": [
    "s3"
   ]
  },
  {
   "cell_type": "markdown",
   "id": "b37b3387",
   "metadata": {},
   "source": [
    "Q10 . Try  to give a defination of string center function with and exmple "
   ]
  },
  {
   "cell_type": "code",
   "execution_count": 55,
   "id": "9cecfb1d",
   "metadata": {},
   "outputs": [
    {
     "data": {
      "text/plain": [
       "'           Ritika                '"
      ]
     },
     "execution_count": 55,
     "metadata": {},
     "output_type": "execute_result"
    }
   ],
   "source": [
    "s4=\"           Ritika                \"\n",
    "s4"
   ]
  },
  {
   "cell_type": "code",
   "execution_count": 58,
   "id": "d4ad6978",
   "metadata": {},
   "outputs": [
    {
     "data": {
      "text/plain": [
       "'*********************************           Ritika                **********************************'"
      ]
     },
     "execution_count": 58,
     "metadata": {},
     "output_type": "execute_result"
    }
   ],
   "source": [
    "s4.center(100,\"*\")"
   ]
  },
  {
   "cell_type": "markdown",
   "id": "e96160b4",
   "metadata": {},
   "source": [
    "Q11 . Write your own definition of compiler and interpretor without copy paste form internet in your own language"
   ]
  },
  {
   "cell_type": "raw",
   "id": "09016dbd",
   "metadata": {},
   "source": [
    "Compilers: Translate everything at once, leading to faster execution but requiring recompilation if you make changes.\n",
    "Interpreters: Translate and execute line by line, allowing for quicker changes but often running slower"
   ]
  },
  {
   "cell_type": "markdown",
   "id": "c486768b",
   "metadata": {},
   "source": [
    "Q12 . Python is a interpreted of compiled language give a clear ans with your understanding "
   ]
  },
  {
   "cell_type": "raw",
   "id": "cbb998f5",
   "metadata": {},
   "source": [
    "Python is often referred to as an interpreted language\n",
    "In interpreted languages, the source code (human-readable code) is translated into an intermediate representation (like bytecode) line by line during program execution. \n",
    "This intermediate code is then interpreted and executed by an interpreter program specifically designed for that language."
   ]
  },
  {
   "cell_type": "markdown",
   "id": "f5087130",
   "metadata": {},
   "source": [
    "Q13 . Try to write a usecase of python with your understanding ."
   ]
  },
  {
   "cell_type": "raw",
   "id": "8b2f9798",
   "metadata": {},
   "source": [
    "Versatility\n",
    "Rich Ecosystem of Libraries\n",
    "Readability and Ease of Use"
   ]
  },
  {
   "cell_type": "markdown",
   "id": "b7bd5af0",
   "metadata": {},
   "source": [
    "Q14. Why Python is So Popular?"
   ]
  },
  {
   "cell_type": "raw",
   "id": "9ce44891",
   "metadata": {},
   "source": [
    "It is user friendly, open-source , rich ecosystem of libraries which helps alot to code faster."
   ]
  },
  {
   "cell_type": "markdown",
   "id": "b14ad4f8",
   "metadata": {},
   "source": [
    "Q15. What is the difference between C, C++, Java and Python?"
   ]
  },
  {
   "cell_type": "raw",
   "id": "245da31e",
   "metadata": {},
   "source": [
    "Programming Paradigm:\n",
    "\n",
    "C: Procedural (focuses on breaking down problems into smaller, step-by-step procedures)\n",
    "C++: Object-oriented (allows organizing code around objects and their interactions) and procedural\n",
    "Java: Object-oriented\n",
    "Python: Object-oriented and scripting (often used for scripting tasks and automating processes)\n",
    "\n",
    "Compilation vs. Interpretation:\n",
    "\n",
    "C, C++: Compiled languages (source code translated into machine code before execution)\n",
    "Java: Primarily compiled, but with some bytecode interpretation involved\n",
    "Python: Interpreted language (source code directly translated and executed line by line)\n",
    "\n",
    "\n",
    "Typing:\n",
    "\n",
    "C, C++: Statically typed (data types must be explicitly declared)\n",
    "Java: Statically typed\n",
    "Python: Dynamically typed (data types determined at runtime)\n",
    "\n",
    "\n",
    "Memory Management:\n",
    "\n",
    "C, C++: Manual memory management (programmer responsible for allocating and freeing memory)\n",
    "Java, Python: Automatic garbage collection (language manages memory allocation and deallocation)\n",
    "\n",
    "\n",
    "\n",
    "Applications:\n",
    "\n",
    "C: System programming (operating systems, device drivers), embedded systems\n",
    "C++: System programming, game development, high-performance applications\n",
    "Java: Enterprise applications, web development, Android development\n",
    "Python: Data science, machine learning, web development, scripting, automation\n",
    "\n",
    "\n",
    "\n",
    "\n",
    "Performance:\n",
    "\n",
    "C, C++: Generally the fastest due to compiled nature and direct hardware interaction, but require more development effort\n",
    "Java: Slower than C/C++ but faster than Python due to bytecode compilation, offers good balance between performance and development efficiency\n",
    "Python: Generally the slowest due to interpretation, but often preferred for rapid development and ease of use"
   ]
  },
  {
   "cell_type": "code",
   "execution_count": null,
   "id": "227636a5",
   "metadata": {},
   "outputs": [],
   "source": []
  }
 ],
 "metadata": {
  "kernelspec": {
   "display_name": "Python 3 (ipykernel)",
   "language": "python",
   "name": "python3"
  },
  "language_info": {
   "codemirror_mode": {
    "name": "ipython",
    "version": 3
   },
   "file_extension": ".py",
   "mimetype": "text/x-python",
   "name": "python",
   "nbconvert_exporter": "python",
   "pygments_lexer": "ipython3",
   "version": "3.11.5"
  }
 },
 "nbformat": 4,
 "nbformat_minor": 5
}
