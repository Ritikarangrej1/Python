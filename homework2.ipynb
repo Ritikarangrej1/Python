{
 "cells": [
  {
   "cell_type": "markdown",
   "id": "664ed5e8",
   "metadata": {},
   "source": [
    "# find the difference b/w List, Tuple, Dictionary and Set. With Example\n",
    "\n",
    "1. Mutability:\n",
    "List: Mutable, meaning elements can be added, removed, or modified after creation.\n",
    "Tuple: Immutable, meaning elements cannot be changed after creation.\n",
    "Dictionary: Mutable, allowing modification of key-value pairs after creation.\n",
    "Set: Mutable, elements can be added or removed, but the order is not maintained and duplicates are not allowed.\n",
    "\n",
    "2. Ordering:\n",
    "List: Ordered collection, elements retain the order they were added.\n",
    "Tuple: Ordered collection, similar to lists.\n",
    "Dictionary: Unordered collection, elements do not have a specific order.\n",
    "Set: Unordered collection, order is not maintained.\n",
    "\n",
    "3. Duplicates:\n",
    "List: Allows duplicates.\n",
    "Tuple: Allows duplicates.\n",
    "Dictionary: Keys must be unique, but values can be duplicates.\n",
    "Set: Does not allow duplicates, each element must be unique.\n",
    "\n",
    "4. Syntax:\n",
    "List: [] (square brackets), elements separated by commas.\n",
    "Tuple: () (parentheses), elements separated by commas.\n",
    "Dictionary: {} (curly braces), key-value pairs separated by colons (:) within curly braces.\n",
    "Set: {} (curly braces), elements separated by commas.\n",
    "\n",
    "\n",
    "5. Example:\n",
    "List=[1,2,3\"ritika\",2.3]\n",
    "Tuple=(1,2,3.4,\"ritika\")\n",
    "Dictionary={\"name\":\"ritika\",\"class\":\"mca\"}\n",
    "set={1,2,3.5,\"ritika\"}"
   ]
  },
  {
   "cell_type": "code",
   "execution_count": null,
   "id": "c75b3c6d",
   "metadata": {},
   "outputs": [],
   "source": []
  }
 ],
 "metadata": {
  "kernelspec": {
   "display_name": "Python 3 (ipykernel)",
   "language": "python",
   "name": "python3"
  },
  "language_info": {
   "codemirror_mode": {
    "name": "ipython",
    "version": 3
   },
   "file_extension": ".py",
   "mimetype": "text/x-python",
   "name": "python",
   "nbconvert_exporter": "python",
   "pygments_lexer": "ipython3",
   "version": "3.11.5"
  }
 },
 "nbformat": 4,
 "nbformat_minor": 5
}
